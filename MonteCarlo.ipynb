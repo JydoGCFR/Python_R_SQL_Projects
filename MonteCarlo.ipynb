{
 "cells": [
  {
   "cell_type": "markdown",
   "metadata": {
    "id": "GacMba-5t1SX"
   },
   "source": [
    "# Python for Analytics\n",
    "__Name__: Jide Afolabi<br>\n",
    "__Date__: March 3, 2024 <br />\n",
    "__Project__: Python <br />\n",
    "__Purpose__: Using NumPy to vectorize a Monte Carlo simulation approach to estimate the value of π.\n"
   ]
  },
  {
   "cell_type": "markdown",
   "metadata": {
    "id": "WjernZjFt1Sa"
   },
   "source": [
    "### Objective\n",
    "To write Python code to accomplish the creation of π by creating a new estimate using [Monte Carlo simulation](https://www.ibm.com/topics/monte-carlo-simulation). \n",
    "\n",
    "This technique relies on simulation and random numbers to estimate the value of π essentially by throwing darts at a board inscribed with a circle and counting how many darts land inside the circle and how many land outside the circle. I will stick to a computer-based simulation. To simplify, I will use the first quadrant unit square as suggested in the article."
   ]
  },
  {
   "cell_type": "code",
   "execution_count": null,
   "metadata": {
    "id": "8ZZORCgut1Sb",
    "tags": []
   },
   "outputs": [],
   "source": [
    "# Import numpy and matplotlib library\n",
    "import numpy as np\n",
    "import matplotlib.pyplot as plt\n",
    "\n",
    "# Generate random uniform numbers for the coordinates\n",
    "size = 500_000\n",
    "rng = np.random.default_rng(seed=12345)\n",
    "random_coord = rng.uniform(0,1,size=(1_000_000,2))\n",
    "\n",
    "# Calculate the square of each coordinate column and sum them\n",
    "sum_of_squares = random_coord[:, 0]**2 + random_coord[:, 1]**2\n",
    "\n",
    "# Calculate the square root of the sum of squares to get the distance\n",
    "distances = np.sqrt(sum_of_squares)\n",
    "\n",
    "#Create a boolean array that compares distance to get the successfull dart within the circle\n",
    "distances <= 1\n",
    "successful_darts = (distances <= 1).sum()\n",
    "print(f'Successfull darts inside the cirle: {successful_darts}')\n",
    "\n",
    "# Calculate the estimated Pi\n",
    "Est_Pi = 4 * (successful_darts/size)\n",
    "print(f'Estimate of Pi: {Est_Pi}')\n",
    "\n",
    "# Plot points within and outside the unit circle\n",
    "inside_circle = random_coord[distances <= 1]\n",
    "outside_circle = random_coord[distances > 1]\n",
    "plt.figure(figsize=(5, 5))\n",
    "plt.scatter(inside_circle[:, 0], inside_circle[:, 1], color='blue', s=1, label='Inside Circle')\n",
    "plt.scatter(outside_circle[:, 0], outside_circle[:, 1], color='red', s=1, label='Outside Circle')\n",
    "plt.title('Monte Carlo Simulation of Pi')\n",
    "plt.xlabel('x')\n",
    "plt.ylabel('y')\n",
    "plt.legend()\n",
    "plt.show()"
   ]
  },
  {
   "cell_type": "markdown",
   "metadata": {
    "id": "bexgWeCMt1Sn"
   },
   "source": [
    "### Methodology\n",
    "1. For each dart thrown, I generated its coordinates, _x_ and _y_, using a random uniform distribution from 0 - 1. The NumPy `uniform` method was used to generate these random coordinates with `seed=12345`.. \n",
    "2. If the dart is inside the quarter-circle, I counted it. A dart is inside the quarter-circle if its distance from the origin (0, 0) is <= 1. \n",
    "3. I calculated the square root of the sum of squares to get the distance.\n",
    "4. After all the darts have been thrown and counted, Pi was estimated.\n",
    "\n",
    "### Summary\n",
    "I used the NumPy library which makes it relatively easy to implement vectorized solutions of Monte Carlo simulations such as this. \n",
    "I then used matplotlib to create and display a plot showing each of the coordinates generated as a dot in the unit square using different colors for the points within the unit circle and the points outside the unit circle.\n"
   ]
  }
 ],
 "metadata": {
  "colab": {
   "collapsed_sections": [],
   "name": "Prog1.ipynb",
   "provenance": []
  },
  "kernelspec": {
   "display_name": "Python 3 (ipykernel)",
   "language": "python",
   "name": "python3"
  },
  "language_info": {
   "codemirror_mode": {
    "name": "ipython",
    "version": 3
   },
   "file_extension": ".py",
   "mimetype": "text/x-python",
   "name": "python",
   "nbconvert_exporter": "python",
   "pygments_lexer": "ipython3",
   "version": "3.11.5"
  }
 },
 "nbformat": 4,
 "nbformat_minor": 4
}
