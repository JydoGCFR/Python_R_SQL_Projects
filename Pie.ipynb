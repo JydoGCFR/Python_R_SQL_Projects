{
 "cells": [
  {
   "cell_type": "markdown",
   "metadata": {
    "id": "GacMba-5t1SX"
   },
   "source": [
    "# Python for Analytics\n",
    "__Name__: Jide Afolabi<br>\n",
    "__Date__: February 18 2024<br />\n",
    "__Project__: Analytics using python<br />\n",
    "__Purpose__: Use of repetition control structure and accumulator pattern to estimate value of π.\n"
   ]
  },
  {
   "cell_type": "markdown",
   "metadata": {
    "id": "WjernZjFt1Sa",
    "tags": []
   },
   "source": [
    "### Objective\n",
    "This project involves using python code to compute an approximate value of π from an infinite series. Using the _Nilakantha_ series (named after an Indian mathematician who lived in the years 1444–1544) shown below. \n",
    "\n",
    "![Prog1-pi-series.png](data:image/png;base64,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)\n"
   ]
  },
  {
   "cell_type": "code",
   "execution_count": 2,
   "metadata": {
    "id": "8ZZORCgut1Sb",
    "tags": []
   },
   "outputs": [
    {
     "name": "stdin",
     "output_type": "stream",
     "text": [
      "Enter the number of terms to use in appoximation of Pi:  15\n"
     ]
    },
    {
     "name": "stdout",
     "output_type": "stream",
     "text": [
      "\n",
      "Term #\tApproximation\n",
      "1\t3.1666666666666665\n",
      "2\t3.1333333333333333\n",
      "3\t3.145238095238095\n",
      "4\t3.1396825396825396\n",
      "5\t3.1427128427128426\n",
      "6\t3.1408813408813407\n",
      "7\t3.142071817071817\n",
      "8\t3.1412548236077646\n",
      "9\t3.141839618929402\n",
      "10\t3.1414067184965018\n",
      "11\t3.1417360992606653\n",
      "12\t3.141479689004255\n",
      "13\t3.1416831892077552\n",
      "14\t3.1415189855952756\n",
      "15\t3.141653394197426\n",
      "\n",
      "Final Pi approx after 15 terms = 3.141653394197426\n"
     ]
    }
   ],
   "source": [
    "num_terms = int(input('Enter the number of terms to use in appoximation of Pi: '))\n",
    "\n",
    "pi_approx = 3.0 # Running summation for the approximation\n",
    "d_term = 2 # First number in denominator product\n",
    "numerator = 4 # Numerator will alternate sign, pos for addition, neg for subtraction\n",
    "\n",
    "print(f'\\nTerm #\\tApproximation')\n",
    "for term_num in range(1, num_terms + 1):\n",
    "    denom = (d_term) * (d_term + 1) * (d_term + 2) # Product for denominator\n",
    "    term = numerator / denom # Divide for each term\n",
    "    pi_approx += term # Add into running total for series\n",
    "    print(f'{term_num}\\t{pi_approx}')\n",
    "    numerator *= -1 # Flips sign each time\n",
    "    d_term += 2 # First number in denom goes up by 2 each iteration\n",
    "    \n",
    "print(f'\\nFinal Pi approx after {num_terms} terms = {pi_approx}')"
   ]
  },
  {
   "cell_type": "markdown",
   "metadata": {
    "id": "bexgWeCMt1Sn"
   },
   "source": [
    "### Methodology\n",
    "I developed my solution in steps by alternating between addition and subtraction on each term. \n",
    "I then incresed the denominator product's first number by 2s each term, so 2, 4, 6, etc.\n",
    "The other numbers in the denominator product are +1 and +2 from the first number. \n",
    "Finally, I put it together in a summation that starts from 3 instead of 0 for this series.\n",
    "\n",
    "### Summary\n",
    "My solution to allow any user to enter a value for the number of terms that they want the code to run for in the approximation calculation. The terms starts counting from the first fraction in the series. \n",
    "The output gives the term number followed by the estimate in a tabular format.\n",
    "\n",
    "For more information about π, check out this <a href=\"https://www.mathsisfun.com/numbers/pi.html\" target=\"_blank\">Math is Fun article</a> or <a href=\"http://www.pi314.net/eng/index.php\" target=\"_blank\">The World of Pi site</a>."
   ]
  }
 ],
 "metadata": {
  "colab": {
   "collapsed_sections": [],
   "name": "Prog1.ipynb",
   "provenance": []
  },
  "kernelspec": {
   "display_name": "Python 3 (ipykernel)",
   "language": "python",
   "name": "python3"
  },
  "language_info": {
   "codemirror_mode": {
    "name": "ipython",
    "version": 3
   },
   "file_extension": ".py",
   "mimetype": "text/x-python",
   "name": "python",
   "nbconvert_exporter": "python",
   "pygments_lexer": "ipython3",
   "version": "3.11.5"
  }
 },
 "nbformat": 4,
 "nbformat_minor": 4
}
