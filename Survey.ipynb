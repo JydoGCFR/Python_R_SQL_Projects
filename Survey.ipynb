{
 "cells": [
  {
   "cell_type": "markdown",
   "metadata": {
    "id": "GacMba-5t1SX"
   },
   "source": [
    "# Python for Analytics\n",
    "\n",
    "__Name__: Jide Afolabi <br>\n",
    "__Date__: Febraury 25 2024 <br />\n",
    "__Project__: Python <br />\n",
    "__Purpose__: Using the list data structure and functions from the `statistics` module to analyze results from a survey.\n"
   ]
  },
  {
   "cell_type": "code",
   "execution_count": 1,
   "metadata": {
    "id": "8ZZORCgut1Sb"
   },
   "outputs": [
    {
     "name": "stdout",
     "output_type": "stream",
     "text": [
      "Frequency Dictionary: {1: 2, 2: 4, 3: 6, 4: 8, 5: 5}\n",
      "\n",
      "Rating \tFrequency \tPercentage \tHistogram\n",
      "1 \t2 \t\t8.00% \t\t|++|\n",
      "2 \t4 \t\t16.00% \t\t|++++|\n",
      "3 \t6 \t\t24.00% \t\t|++++++|\n",
      "4 \t8 \t\t32.00% \t\t|++++++++|\n",
      "5 \t5 \t\t20.00% \t\t|+++++|\n",
      "\n",
      "Response Statistics\n",
      "Minimum: 1 \n",
      "Maximum: 5 \n",
      "Mean: \t3.4 \n",
      "Median: 4 \n",
      "Mode: \t4 \n",
      "Std Dev: 1.2247\n",
      "\n",
      "Ratings Survey: [1, 1, 2, 2, 2, 2, 3, 3, 3, 3, 3, 3, 4, 4, 4, 4, 4, 4, 4, 4, 5, 5, 5, 5, 5]\n",
      "\n"
     ]
    },
    {
     "data": {
      "image/png": "[encoded data removed]",
      "text/plain": [
       "<Figure size 640x480 with 1 Axes>"
      ]
     },
     "metadata": {},
     "output_type": "display_data"
    }
   ],
   "source": [
    "# Create a list from the survey response\n",
    "rating_list = [1,1,2,2,2,2,3,3,3,3,3,3,4,4,4,4,4,4,4,4,5,5,5,5,5]\n",
    "\n",
    "# Define a function freq_dict to create a frequency dictionary of rating:frequency key and value pairs\n",
    "def freq_dict(input_list):\n",
    "    frequency_dictionary ={}\n",
    "    for rating in input_list:\n",
    "        if rating in frequency_dictionary:\n",
    "            frequency_dictionary[rating] += 1\n",
    "        else:\n",
    "            frequency_dictionary[rating] = 1\n",
    "    return frequency_dictionary \n",
    "frequency = freq_dict(rating_list)\n",
    "print(f'Frequency Dictionary: {frequency}')\n",
    "print()\n",
    "\n",
    "# Import the collection library to calculate the counts\n",
    "import collections\n",
    "rating_counts = collections.Counter(rating_list)\n",
    "\n",
    "total_ratings = len(rating_list)\n",
    "\n",
    "# Print the frequency table along with the horizontal histogram\n",
    "print(f'Rating \\tFrequency \\tPercentage \\tHistogram')\n",
    "for rating_list, count in rating_counts.items():\n",
    "    percentage = (count / total_ratings) * 100\n",
    "    print(f\"{rating_list} \\t{count} \\t\\t{percentage:.2f}% \\t\\t|{'+' * count}|\")\n",
    "print()\n",
    "\n",
    "# Create the response statistics by importing the statistics library\n",
    "import statistics\n",
    "rating_list = [1,1,2,2,2,2,3,3,3,3,3,3,4,4,4,4,4,4,4,4,5,5,5,5,5]\n",
    "minimum = min(rating_list)\n",
    "maximum = max(rating_list)\n",
    "mean = statistics.mean(rating_list)\n",
    "median = statistics.median(rating_list)\n",
    "mode = statistics.mode(rating_list)\n",
    "std_dev = statistics.stdev(rating_list)\n",
    "\n",
    "# Print Output of response statistics\n",
    "print('Response Statistics')\n",
    "print(f'Minimum: {minimum} \\nMaximum: {maximum} \\nMean: \\t{mean} \\nMedian: {median} \\nMode: \\t{mode} \\nStd Dev: {std_dev:.4f}')\n",
    "print()\n",
    "\n",
    "# Read and Open the ratings survey from a text file\n",
    "with open('Ratings Survey.txt', 'r') as file:\n",
    "    # Read each line from the file and convert to integers\n",
    "    rating_survey = [int(line.strip()) for line in file]\n",
    "\n",
    "# Print the list of ratings from the survey txt file\n",
    "print(\"Ratings Survey:\", rating_survey)     \n",
    "print()\n",
    "\n",
    "# Import matplotlib library for the visualization \n",
    "import matplotlib.pyplot as plt\n",
    "#rating_list = [1,1,2,2,2,2,3,3,3,3,3,3,4,4,4,4,4,4,4,4,5,5,5,5,5]\n",
    "plt.hist(rating_survey)\n",
    "plt.xlabel('Ratings')\n",
    "plt.ylabel('Frequency')\n",
    "plt.show()"
   ]
  },
  {
   "cell_type": "markdown",
   "metadata": {
    "id": "bexgWeCMt1Sn"
   },
   "source": [
    "### Objective\n",
    "To write Python code to analyze the student survey described below. 25 students were asked to rate on a scale from 1 to 5 the quality of the food in the cafeteria, with 1 being \"terrible\" and 5 being \"excellent\".\n",
    "\n",
    "### Methodology\n",
    "1. I did a survey of 25 students with responses and created a list of 25 responses.\n",
    "2. Defined a function freq_dict to create a frequency dictionary of rating:frequency key and value pairs\n",
    "3. I then used the `count` method of the `list` data structure to determine the frequency of each rating (1 to 5).\n",
    "4. Printed a neat table showing the frequencies of the survey responses. \n",
    "5. Created a text-based frequency distribution histogram that is plotted horizontally across the screen with the count for each rating and associated percentage displayed and followed by a `+` for each survey result rating.\n",
    "6. Used the built-in functions and the functions of the statistics module to calculate the following: minimum rating, maximum rating, mode rating, mean rating, median rating, and sample standard deviation. \n",
    "7. Used matplotlib module to create and display a frequency plot of the ratings data\n"
   ]
  }
 ],
 "metadata": {
  "colab": {
   "collapsed_sections": [],
   "name": "Prog1.ipynb",
   "provenance": []
  },
  "kernelspec": {
   "display_name": "Python 3 (ipykernel)",
   "language": "python",
   "name": "python3"
  },
  "language_info": {
   "codemirror_mode": {
    "name": "ipython",
    "version": 3
   },
   "file_extension": ".py",
   "mimetype": "text/x-python",
   "name": "python",
   "nbconvert_exporter": "python",
   "pygments_lexer": "ipython3",
   "version": "3.11.5"
  }
 },
 "nbformat": 4,
 "nbformat_minor": 4
}
